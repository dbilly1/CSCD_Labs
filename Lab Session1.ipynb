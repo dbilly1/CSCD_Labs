{
 "cells": [
  {
   "cell_type": "markdown",
   "metadata": {},
   "source": [
    "# CSCD 319 - COMPUTER VISION\n",
    "\n",
    "## LAB SESSION 1: \n",
    "### TOPIC: OVERVIEW OF PYTHON PROGRAMMING AND THE JUPYTER NOTEBOOK"
   ]
  },
  {
   "cell_type": "markdown",
   "metadata": {},
   "source": [
    "### ASSIGNMENT 1 - 5 marks\n",
    "### Douglas Billy - 10715779\n",
    "\n",
    "All codes should be written in Python 3.x\n",
    "\n",
    "**SUBMISSION DEADLINE:** FRIDAY, APRIL 23rd, 2021."
   ]
  },
  {
   "cell_type": "markdown",
   "metadata": {},
   "source": [
    "##### QUESTION 1\n",
    "Write a program to display the square root of even numbers between 1 and 50"
   ]
  },
  {
   "cell_type": "code",
   "execution_count": 1,
   "metadata": {},
   "outputs": [
    {
     "name": "stdout",
     "output_type": "stream",
     "text": [
      "Square root of 2 is 1.4142135623730951\n",
      "Square root of 4 is 2.0\n",
      "Square root of 6 is 2.449489742783178\n",
      "Square root of 8 is 2.8284271247461903\n",
      "Square root of 10 is 3.1622776601683795\n",
      "Square root of 12 is 3.4641016151377544\n",
      "Square root of 14 is 3.7416573867739413\n",
      "Square root of 16 is 4.0\n",
      "Square root of 18 is 4.242640687119285\n",
      "Square root of 20 is 4.47213595499958\n",
      "Square root of 22 is 4.69041575982343\n",
      "Square root of 24 is 4.898979485566356\n",
      "Square root of 26 is 5.0990195135927845\n",
      "Square root of 28 is 5.291502622129181\n",
      "Square root of 30 is 5.477225575051661\n",
      "Square root of 32 is 5.656854249492381\n",
      "Square root of 34 is 5.830951894845301\n",
      "Square root of 36 is 6.0\n",
      "Square root of 38 is 6.164414002968976\n",
      "Square root of 40 is 6.324555320336759\n",
      "Square root of 42 is 6.48074069840786\n",
      "Square root of 44 is 6.6332495807108\n",
      "Square root of 46 is 6.782329983125268\n",
      "Square root of 48 is 6.928203230275509\n"
     ]
    }
   ],
   "source": [
    "import math\n",
    "def sqrtroot():\n",
    "    for x in range(2,50,2):\n",
    "        print(f'Square root of {x} is {math.sqrt(x)}')\n",
    "\n",
    "sqrtroot()"
   ]
  },
  {
   "cell_type": "markdown",
   "metadata": {},
   "source": [
    "##### QUESTION 2\n",
    "\n",
    "Write a program to generate an array of 10 random whole numbers with the lower limit and the upper limit coming from a user input.\\\n",
    "This means that a user would define the lower boundary of the array as well as the upper boundary by providing an input for both values.\\\n",
    "And then you generate an array/list of random numbers that falls within the given user input.\n",
    "\n",
    "**Hint:** You may use the random method imported to help you generate the numbers. "
   ]
  },
  {
   "cell_type": "code",
   "execution_count": 4,
   "metadata": {},
   "outputs": [
    {
     "name": "stdout",
     "output_type": "stream",
     "text": [
      "Enter lower boundary: 1\n",
      "Enter upper boundary: 100\n",
      "[12, 93, 93, 88, 36, 11, 29, 4, 16, 35]\n"
     ]
    }
   ],
   "source": [
    "import random\n",
    "gen_array = []\n",
    "\n",
    "lower = int(input(\"Enter lower boundary: \"))\n",
    "upper = int(input(\"Enter upper boundary: \"))\n",
    "\n",
    "if(upper>lower):\n",
    "    for x in range(10):\n",
    "        gen_array.append(random.randint(lower,upper))\n",
    "\n",
    "else:\n",
    "    print(\"Upper boundary must be greater than lower boudary\")\n",
    "\n",
    "print(gen_array)"
   ]
  },
  {
   "cell_type": "markdown",
   "metadata": {},
   "source": [
    "##### QUESTION 3\n",
    "\n",
    "Write a function that takes the array generated above in Question 2 as an argument and perform both the addition and multiplication operations on the array.\\\n",
    "Print out the results of each operation."
   ]
  },
  {
   "cell_type": "code",
   "execution_count": 5,
   "metadata": {},
   "outputs": [
    {
     "name": "stdout",
     "output_type": "stream",
     "text": [
      "Sum of the array is 417\n",
      "Product of the array is 6397952\n"
     ]
    }
   ],
   "source": [
    "import numpy as np\n",
    "def sum_prod(array):\n",
    "    _sum = np.sum(array)\n",
    "    prod = np.prod(array)\n",
    "    print(f'Sum of the array is {_sum}')\n",
    "    print(f'Product of the array is {prod}')\n",
    "\n",
    "sum_prod(gen_array)"
   ]
  },
  {
   "cell_type": "markdown",
   "metadata": {},
   "source": [
    "##### QUESTION 4\n",
    "Let us practise with the popular Collatz sequence.\n",
    "\n",
    "Write a function named collatz() that has one parameter named number. If \n",
    "number is even, then collatz() should print number // 2 and return the resulting value.\\\n",
    "If number is odd, then collatz() should print and return (3 * number + 1).\n",
    "\n",
    "Then write a program that lets the user type in an integer and that keeps \n",
    "calling collatz() on that number until the function returns the value 1. "
   ]
  },
  {
   "cell_type": "code",
   "execution_count": 6,
   "metadata": {},
   "outputs": [
    {
     "name": "stdout",
     "output_type": "stream",
     "text": [
      "Enter a number: 19\n",
      "58\n",
      "29\n",
      "88\n",
      "44\n",
      "22\n",
      "11\n",
      "34\n",
      "17\n",
      "52\n",
      "26\n",
      "13\n",
      "40\n",
      "20\n",
      "10\n",
      "5\n",
      "16\n",
      "8\n",
      "4\n",
      "2\n",
      "1\n"
     ]
    }
   ],
   "source": [
    "def collatz(number):\n",
    "    if number % 2 == 0:\n",
    "        result = number // 2\n",
    "        print(result)\n",
    "        return result\n",
    "    elif number % 2 ==1:\n",
    "        result = 3 * number + 1\n",
    "        print(result)\n",
    "        return result\n",
    "\n",
    "number = int(input(\"Enter a number: \"))\n",
    "while(number != 1):\n",
    "    number = collatz(number)"
   ]
  },
  {
   "cell_type": "code",
   "execution_count": null,
   "metadata": {},
   "outputs": [],
   "source": []
  }
 ],
 "metadata": {
  "kernelspec": {
   "display_name": "Python 3",
   "language": "python",
   "name": "python3"
  },
  "language_info": {
   "codemirror_mode": {
    "name": "ipython",
    "version": 3
   },
   "file_extension": ".py",
   "mimetype": "text/x-python",
   "name": "python",
   "nbconvert_exporter": "python",
   "pygments_lexer": "ipython3",
   "version": "3.7.1"
  }
 },
 "nbformat": 4,
 "nbformat_minor": 5
}
